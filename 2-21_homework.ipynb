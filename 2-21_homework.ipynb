{
 "cells": [
  {
   "cell_type": "markdown",
   "id": "1023a336",
   "metadata": {},
   "source": [
    "### Exercise 1"
   ]
  },
  {
   "cell_type": "markdown",
   "id": "11c25f8c",
   "metadata": {},
   "source": [
    "##### Create a list of numbers that are less than ten using l_1 and list comprehension\n",
    "\n",
    "\n",
    "Your output should [1,5,8,9]"
   ]
  },
  {
   "cell_type": "code",
   "execution_count": 1,
   "id": "47bf567a",
   "metadata": {},
   "outputs": [
    {
     "name": "stdout",
     "output_type": "stream",
     "text": [
      "[1, 5, 8, 9]\n"
     ]
    }
   ],
   "source": [
    "# Use the following list - [1,11,14,5,8,9]\n",
    "\n",
    "l_1 = [1,11,14,5,8,9]\n",
    "\n",
    "number_under_10 = [num for num in l_1 if num < 10]\n",
    "\n",
    "print(number_under_10)\n"
   ]
  },
  {
   "cell_type": "markdown",
   "id": "9cf047f6",
   "metadata": {},
   "source": [
    "### Exercise 2"
   ]
  },
  {
   "cell_type": "markdown",
   "id": "2c99ecc2",
   "metadata": {},
   "source": [
    "Using list comprehension, create a list of names of 4 letters or more and capitalize each name"
   ]
  },
  {
   "cell_type": "code",
   "execution_count": 2,
   "id": "e6052797",
   "metadata": {},
   "outputs": [
    {
     "name": "stdout",
     "output_type": "stream",
     "text": [
      "['Connor', 'Connor', 'Connor', 'Evan', 'Evan', 'Kevin']\n"
     ]
    }
   ],
   "source": [
    "names1 = ['connor', 'connor', 'bob', 'connor', 'evan', 'max', 'evan', 'bob', 'kevin']\n",
    "\n",
    "longer_names = [name.title() for name in names1 if len(name) >= 4]\n",
    "\n",
    "print(longer_names)\n",
    "        "
   ]
  },
  {
   "cell_type": "code",
   "execution_count": 1,
   "id": "e19b7ff8",
   "metadata": {},
   "outputs": [
    {
     "name": "stdout",
     "output_type": "stream",
     "text": [
      "['Connor', 'Connor', 'Connor', 'Evan', 'Evan', 'Kevin']\n"
     ]
    }
   ],
   "source": [
    "# Bonus Challenge\n",
    "names2 = ['connor', 'connor', 'bob', 'connor', 'evan', 'max', 'evan', 2, 2, 2, 3, 3, 4, 'bob', 'kevin']\n",
    "\n",
    "longer_characters = [character.title() for character in names2 if character is str(character) and len(character) >= 4]\n",
    "\n",
    "print(longer_characters)"
   ]
  },
  {
   "cell_type": "code",
   "execution_count": null,
   "id": "1ebea7e3",
   "metadata": {},
   "outputs": [],
   "source": []
  }
 ],
 "metadata": {
  "kernelspec": {
   "display_name": "Python 3 (ipykernel)",
   "language": "python",
   "name": "python3"
  },
  "language_info": {
   "codemirror_mode": {
    "name": "ipython",
    "version": 3
   },
   "file_extension": ".py",
   "mimetype": "text/x-python",
   "name": "python",
   "nbconvert_exporter": "python",
   "pygments_lexer": "ipython3",
   "version": "3.9.13"
  }
 },
 "nbformat": 4,
 "nbformat_minor": 5
}
